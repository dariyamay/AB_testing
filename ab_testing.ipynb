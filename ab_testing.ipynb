{
  "nbformat": 4,
  "nbformat_minor": 0,
  "metadata": {
    "colab": {
      "provenance": [],
      "authorship_tag": "ABX9TyPDXe22rvz2BA4bybFSBEwj",
      "include_colab_link": true
    },
    "kernelspec": {
      "name": "python3",
      "display_name": "Python 3"
    },
    "language_info": {
      "name": "python"
    }
  },
  "cells": [
    {
      "cell_type": "markdown",
      "metadata": {
        "id": "view-in-github",
        "colab_type": "text"
      },
      "source": [
        "<a href=\"https://colab.research.google.com/github/dariyamay/AB_testing/blob/main/ab_testing.ipynb\" target=\"_parent\"><img src=\"https://colab.research.google.com/assets/colab-badge.svg\" alt=\"Open In Colab\"/></a>"
      ]
    },
    {
      "cell_type": "code",
      "execution_count": 1,
      "metadata": {
        "id": "fG2k3ZPJTl4A"
      },
      "outputs": [],
      "source": [
        "import math as mt\n",
        "import numpy as np\n",
        "import pandas as pd\n",
        "from scipy.stats import norm"
      ]
    },
    {
      "cell_type": "markdown",
      "source": [
        "## 1 Experiment Overview <a class=\"anchor\" id=\"overview\"></a>\n",
        "Experiment Overview: Free Trial Screener \n",
        "\n",
        "At the time of this experiment, Udacity courses currently have two options on the course overview page: \"start free trial\", and \"access course materials\". If the student clicks \"start free trial\", they will be asked to enter their credit card information, and then they will be enrolled in a free trial for the paid version of the course. After 14 days, they will automatically be charged unless they cancel first. If the student clicks \"access course materials\", they will be able to view the videos and take the quizzes for free, but they will not receive coaching support or a verified certificate, and they will not submit their final project for feedback.\n",
        "\n",
        "\n",
        "In the experiment, Udacity tested a change where if the student clicked \"start free trial\", they were asked how much time they had available to devote to the course. If the student indicated 5 or more hours per week, they would be taken through the checkout process as usual. If they indicated fewer than 5 hours per week, a message would appear indicating that Udacity courses usually require a greater time commitment for successful completion, and suggesting that the student might like to access the course materials for free. At this point, the student would have the option to continue enrolling in the free trial, or access the course materials for free instead. This screenshot shows what the experiment looks like.\n",
        "\n",
        "\n",
        "The hypothesis was that this might set clearer expectations for students upfront, thus reducing the number of frustrated students who left the free trial because they didn't have enough time—without significantly reducing the number of students to continue past the free trial and eventually complete the course. If this hypothesis held true, Udacity could improve the overall student experience and improve coaches' capacity to support students who are likely to complete the course.\n",
        "\n",
        "\n",
        "The unit of diversion is a cookie, although if the student enrolls in the free trial, they are tracked by user-id from that point forward. The same user-id cannot enroll in the free trial twice. For users that do not enroll, their user-id is not tracked in the experiment, even if they were signed in when they visited the course overview page."
      ],
      "metadata": {
        "id": "bC94CcanUL5f"
      }
    },
    {
      "cell_type": "markdown",
      "source": [
        "## 2 Metric Choice <a class=\"anchor\" id=\"metric\"></a>\n",
        "We need two kinds of metrics for a successful or at least, a safe experiment: Invariant and evaluation metrics. Invariant metrics are utilized for \"sanity checks\" to verify that the experiment is not fundamentally flawed. This means we select metrics that we expect to remain unchanged and later confirm that these metrics do not deviate greatly between the control and experiment groups. Evaluation metrics, on the other hand, are the metrics that we expect to see a variation in and are relevant to the business objectives we aim to attain. For each metric, we determine a $Dmin$, which represents the minimum change that is practically significant to the business. For example, stating that any improvement in retention below 2%, even if it is statistically significant, is not practical for the business.\n",
        "\n",
        "### 2.1 Invariate Metrics - Sanity Checks <a class=\"anchor\" id=\"invariate\"></a>\n",
        "\n",
        "| Metric Name  | Metric Formula  | $Dmin$  | Notation |\n",
        "|:-:|:-:|:-:|:-:|\n",
        "| Number of Cookies in Course Overview Page  | # unique daily cookies on page | 3000 cookies  | $C_k$ |\n",
        "| Number of Clicks on Free Trial Button  | # unique daily cookies who clicked  | 240 clicks | $C_l$ |\n",
        "| Free Trial button Click-Through-Probability  | $\\frac{C_l}{C_k}$ | 0.01  | $CTP$ | \n",
        "\n",
        "### 2.2 Evaluation Metrics - Performance Indicators <a class=\"anchor\" id=\"evaluation\"></a>\n",
        "| Metric Name  | Metric Formula  | $Dmin$  | Notation |\n",
        "|:-:|:-:|:-:|:-:|\n",
        "| Gross Conversion   |  $\\frac{enrolled}{C_l}$  | 0.01  | $Conversion_{Gross}$ |\n",
        "| Retention   | $\\frac{paid}{enrolled}$  | 0.01  | $Retention$ |\n",
        "| Net Conversion  |  $\\frac{paid}{C_l}$  | 0.0075 | $Conversion_{Net}$ |"
      ],
      "metadata": {
        "id": "61k5xOGIUg2Y"
      }
    },
    {
      "cell_type": "markdown",
      "source": [
        "## 3 Measuring Variability <a class=\"anchor\" id=\"baseline\"></a>\n",
        "Before we start our experiment we should know how these metrics behave before the change - that is, what are their baseline values.\n",
        "### 3.1 Collecting estimators data <a class=\"anchor\" id=\"collect\"></a>\n",
        "Udacity gives the following rough estimates for these metrics (presumably collected from aggregates on daily traffic) <br>\n",
        "\n",
        "| Item | Description  | Estimator  |\n",
        "|:-:|:-:|:-:|\n",
        "| Number of cookies | Daily unique cookies to view course overview page  | 40,000  |\n",
        "| Number of clicks | Daily unique cookies to click Free Trial button  | 3,200 |\n",
        "| Number of enrollments | Free Trial enrollments per day  | 660  |\n",
        "| CTP | CTP on Free Trial button  | 0.08  |\n",
        "| Gross Conversion | Probability of enrolling, given a click  | 0.20625  |\n",
        "| Retention | Probability of payment, given enrollment  | 0.53  |\n",
        "| Net Conversion | Probability of payment, given click  | 0.109313 |"
      ],
      "metadata": {
        "id": "K6ItSdlVVrkP"
      }
    },
    {
      "cell_type": "code",
      "source": [
        "#Let's place this estimators into a dictionary for ease of use later\n",
        "baseline = {\"Cookies\":40000,\"Clicks\":3200,\"Enrollments\":660,\"CTP\":0.08,\"GConversion\":0.20625,\n",
        "           \"Retention\":0.53,\"NConversion\":0.109313}"
      ],
      "metadata": {
        "id": "PoPg6H0eX-RK"
      },
      "execution_count": 2,
      "outputs": []
    },
    {
      "cell_type": "markdown",
      "source": [
        "### 3.2 Estimating Standard Deviation <a class=\"anchor\" id=\"sd\"></a>\n",
        "After we have obtained these estimates, we should calculate the standard deviation of the metric. This is necessary for determining the sample size and constructing confidence intervals for our results. The more variable the metric, the more difficult it is to achieve a significant outcome. With a daily sample size of 5,000 cookies visiting the course overview page (as specified in the project guidelines), we need to estimate the standard deviation for only the evaluation metrics. Our sample size should be smaller than the overall sample and small enough to form two groups with that size.\n",
        "\n",
        "#### 3.2.1 Scaling Collected Data <a class=\"anchor\" id=\"scale\"></a>\n",
        "For all subsequent calculations, we need to adjust our metric count estimates based on the sample size we determined for estimating variability. This involves scaling our count of 40000 unique cookies visiting the course overview page per day to 5000."
      ],
      "metadata": {
        "id": "1Y_ur7kPYbWn"
      }
    },
    {
      "cell_type": "code",
      "source": [
        "#Scale The counts estimates\n",
        "baseline[\"Cookies\"] = 5000\n",
        "baseline[\"Clicks\"]=baseline[\"Clicks\"]*(5000/40000)\n",
        "baseline[\"Enrollments\"]=baseline[\"Enrollments\"]*(5000/40000)\n",
        "baseline"
      ],
      "metadata": {
        "colab": {
          "base_uri": "https://localhost:8080/"
        },
        "id": "LD_Q63T7YsFS",
        "outputId": "90c1c8bd-0b44-4457-f505-5af013ba2245"
      },
      "execution_count": 3,
      "outputs": [
        {
          "output_type": "execute_result",
          "data": {
            "text/plain": [
              "{'Cookies': 5000,\n",
              " 'Clicks': 400.0,\n",
              " 'Enrollments': 82.5,\n",
              " 'CTP': 0.08,\n",
              " 'GConversion': 0.20625,\n",
              " 'Retention': 0.53,\n",
              " 'NConversion': 0.109313}"
            ]
          },
          "metadata": {},
          "execution_count": 3
        }
      ]
    },
    {
      "cell_type": "markdown",
      "source": [
        "#### 3.2.2 Estimating Analytically <a class=\"anchor\" id=\"estimate\"></a>\n",
        "In order to estimate variance analytically, we can assume metrics which are probabilities ($\\hat{p}$) are binomially distributed, so we can use this formula for the standard deviation: <br>\n",
        "<center><font size=\"4\">$SD=\\sqrt{\\frac{\\hat{p}*(1-\\hat{p})}{n}}$</font></center><br>"
      ],
      "metadata": {
        "id": "CCKOvxcmZHOX"
      }
    },
    {
      "cell_type": "code",
      "source": [
        "# Let's get the p and n we need for Gross Conversion (GC)\n",
        "# and compute the Stansard Deviation(sd) rounded to 4 decimal digits.\n",
        "GC={}\n",
        "GC[\"d_min\"]=0.01\n",
        "GC[\"p\"]=baseline[\"GConversion\"]\n",
        "#p is given in this case - or we could calculate it from enrollments/clicks\n",
        "GC[\"n\"]=baseline[\"Clicks\"]\n",
        "GC[\"sd\"]=round(mt.sqrt((GC[\"p\"]*(1-GC[\"p\"]))/GC[\"n\"]),4)\n",
        "GC[\"sd\"]"
      ],
      "metadata": {
        "colab": {
          "base_uri": "https://localhost:8080/"
        },
        "id": "XxIgOM75ZIRd",
        "outputId": "08050f83-32e1-4da8-e425-7f5c729673db"
      },
      "execution_count": 4,
      "outputs": [
        {
          "output_type": "execute_result",
          "data": {
            "text/plain": [
              "0.0202"
            ]
          },
          "metadata": {},
          "execution_count": 4
        }
      ]
    },
    {
      "cell_type": "code",
      "source": [
        "# Let's get the p and n we need for Retention(R)\n",
        "# and compute the Stansard Deviation(sd) rounded to 4 decimal digits.\n",
        "R={}\n",
        "R[\"d_min\"]=0.01\n",
        "R[\"p\"]=baseline[\"Retention\"]\n",
        "R[\"n\"]=baseline[\"Enrollments\"]\n",
        "R[\"sd\"]=round(mt.sqrt((R[\"p\"]*(1-R[\"p\"]))/R[\"n\"]),4)\n",
        "R[\"sd\"]"
      ],
      "metadata": {
        "colab": {
          "base_uri": "https://localhost:8080/"
        },
        "id": "uMPLRyRlZKmO",
        "outputId": "0dcd6d6e-ec77-4b37-e51a-d55cd39777b2"
      },
      "execution_count": 5,
      "outputs": [
        {
          "output_type": "execute_result",
          "data": {
            "text/plain": [
              "0.0549"
            ]
          },
          "metadata": {},
          "execution_count": 5
        }
      ]
    },
    {
      "cell_type": "code",
      "source": [
        "# Let's get the p and n we need for Net Conversion (NC)\n",
        "# and compute the Standard Deviation (sd) rounded to 4 decimal digits.\n",
        "NC={}\n",
        "NC[\"d_min\"]=0.0075\n",
        "NC[\"p\"]=baseline[\"NConversion\"]\n",
        "NC[\"n\"]=baseline[\"Clicks\"]\n",
        "NC[\"sd\"]=round(mt.sqrt((NC[\"p\"]*(1-NC[\"p\"]))/NC[\"n\"]),4)\n",
        "NC[\"sd\"]"
      ],
      "metadata": {
        "colab": {
          "base_uri": "https://localhost:8080/"
        },
        "id": "UWq0znlWZOBY",
        "outputId": "be32a3f0-efc1-4601-b509-720239afbe3e"
      },
      "execution_count": 6,
      "outputs": [
        {
          "output_type": "execute_result",
          "data": {
            "text/plain": [
              "0.0156"
            ]
          },
          "metadata": {},
          "execution_count": 6
        }
      ]
    },
    {
      "cell_type": "markdown",
      "source": [
        "## 4 Experiment Sizing <a class=\"anchor\" id=\"sizing\"></a>\n",
        "Choosing Number of Samples given Power.\n",
        "\n",
        "\n",
        "Given $\\alpha=0.05$ (significance level) and $\\beta=0.2$ (power), we want to estimate how many total pageviews (cookies who viewed the course overview page) we need in the experiment. \n",
        "\n",
        "The minimum sample size for control and experiment groups, which provides probability of Type I Error $\\alpha$, Power $1-\\beta$, detectable effect $d$ and baseline conversion rate $p$ (simple hypothesis $H_0 : P_{cont} - P_{exp} = 0$ against simple alternative $H_A : P_{cont} - P_{exp} = d$  is:\n",
        "\n",
        "<center> <font size=\"5\"> $n = \\frac{(Z_{1-\\frac{\\alpha}{2}}sd_1 + Z_{1-\\beta}sd_2)^2}{d^2}$</font>, with: <br><br>\n",
        "$sd_1 = \\sqrt{p(1-p)+p(1-p)}$<br><br>\n",
        "$sd_2 = \\sqrt{p(1-p)+(p+d)(1-(1-(p+d))}$ </center><br>\n",
        "\n",
        "\n",
        "\n",
        "### 4.1 Get z-score critical value and Standard Deviations <a class=\"anchor\" id=\"side_methods\"></a>\n"
      ],
      "metadata": {
        "id": "ZbMcXa5Wacd1"
      }
    },
    {
      "cell_type": "code",
      "source": [
        "def get_sds(p,d):\n",
        "    sd1=mt.sqrt(2*p*(1-p))\n",
        "    sd2=mt.sqrt(p*(1-p)+(p+d)*(1-(p+d)))\n",
        "    x=[sd1,sd2]\n",
        "    return x"
      ],
      "metadata": {
        "id": "kl-GOOwLZP9p"
      },
      "execution_count": 7,
      "outputs": []
    },
    {
      "cell_type": "code",
      "source": [
        "#Inputs: required alpha value (alpha should already fit the required test)\n",
        "#Returns: z-score for given alpha\n",
        "def get_z_score(alpha):\n",
        "    return norm.ppf(alpha)\n",
        "\n",
        "# Inputs p-baseline conversion rate which is our estimated p and d-minimum detectable change\n",
        "# Returns\n",
        "def get_sds(p,d):\n",
        "    sd1=mt.sqrt(2*p*(1-p))\n",
        "    sd2=mt.sqrt(p*(1-p)+(p+d)*(1-(p+d)))\n",
        "    sds=[sd1,sd2]\n",
        "    return sds\n",
        "\n",
        "# Inputs:sd1-sd for the baseline,sd2-sd for the expected change,alpha,beta,d-d_min,p-baseline estimate p\n",
        "# Returns: the minimum sample size required per group according to metric denominator\n",
        "def get_sampSize(sds,alpha,beta,d):\n",
        "    n=pow((get_z_score(1-alpha/2)*sds[0]+get_z_score(1-beta)*sds[1]),2)/pow(d,2)\n",
        "    return n"
      ],
      "metadata": {
        "id": "sGenZBSnbXn8"
      },
      "execution_count": 8,
      "outputs": []
    },
    {
      "cell_type": "markdown",
      "source": [
        "### 4.2 Calculate Sample Size per Metric <a class=\"anchor\" id=\"calc\"></a>"
      ],
      "metadata": {
        "id": "jTqP3h5dbfLR"
      }
    },
    {
      "cell_type": "code",
      "source": [
        "GC[\"d\"]=0.01\n",
        "R[\"d\"]=0.01\n",
        "NC[\"d\"]=0.0075"
      ],
      "metadata": {
        "id": "hnNdQKPbbni0"
      },
      "execution_count": 9,
      "outputs": []
    },
    {
      "cell_type": "markdown",
      "source": [
        "* **Gross Conversion**"
      ],
      "metadata": {
        "id": "jzzpJA3Hbtev"
      }
    },
    {
      "cell_type": "code",
      "source": [
        "# Let's get an integer value for simplicity\n",
        "GC[\"SampSize\"]=round(get_sampSize(get_sds(GC[\"p\"],GC[\"d\"]),0.05,0.2,GC[\"d\"]))\n",
        "GC[\"SampSize\"]"
      ],
      "metadata": {
        "colab": {
          "base_uri": "https://localhost:8080/"
        },
        "id": "4vFmHEm8bt9R",
        "outputId": "31caa6de-00ab-4b68-cd0c-ffba9d21dd90"
      },
      "execution_count": 10,
      "outputs": [
        {
          "output_type": "execute_result",
          "data": {
            "text/plain": [
              "25835"
            ]
          },
          "metadata": {},
          "execution_count": 10
        }
      ]
    },
    {
      "cell_type": "markdown",
      "source": [
        "This means we need at least 25,835 cookies who click the Free Trial button - per group"
      ],
      "metadata": {
        "id": "5FijsUhHcF9a"
      }
    },
    {
      "cell_type": "code",
      "source": [
        "# The total amount of samples per the Gross Conversion metric is\n",
        "GC[\"SampSize\"]=round(GC[\"SampSize\"]/0.08*2)\n",
        "GC[\"SampSize\"]"
      ],
      "metadata": {
        "colab": {
          "base_uri": "https://localhost:8080/"
        },
        "id": "Pk4J6AoCbwCo",
        "outputId": "644c1955-e369-4596-8698-33121fdcaa81"
      },
      "execution_count": 11,
      "outputs": [
        {
          "output_type": "execute_result",
          "data": {
            "text/plain": [
              "645875"
            ]
          },
          "metadata": {},
          "execution_count": 11
        }
      ]
    },
    {
      "cell_type": "markdown",
      "source": [
        "* Retention"
      ],
      "metadata": {
        "id": "cUbbcdg0b8fB"
      }
    },
    {
      "cell_type": "code",
      "source": [
        "# Getting a nice integer value\n",
        "R[\"SampSize\"]=round(get_sampSize(get_sds(R[\"p\"],R[\"d\"]),0.05,0.2,R[\"d\"]))\n",
        "R[\"SampSize\"]"
      ],
      "metadata": {
        "colab": {
          "base_uri": "https://localhost:8080/"
        },
        "id": "39gvecZfcKcP",
        "outputId": "84994afc-3066-4121-a9cd-002d4a7368c7"
      },
      "execution_count": 12,
      "outputs": [
        {
          "output_type": "execute_result",
          "data": {
            "text/plain": [
              "39087"
            ]
          },
          "metadata": {},
          "execution_count": 12
        }
      ]
    },
    {
      "cell_type": "code",
      "source": [
        "R[\"SampSize\"]=R[\"SampSize\"]/0.08/0.20625*2\n",
        "R[\"SampSize\"]"
      ],
      "metadata": {
        "colab": {
          "base_uri": "https://localhost:8080/"
        },
        "id": "zZhn8jrbcMan",
        "outputId": "d488f163-6809-4510-b44d-d81ee7a62896"
      },
      "execution_count": 13,
      "outputs": [
        {
          "output_type": "execute_result",
          "data": {
            "text/plain": [
              "4737818.181818182"
            ]
          },
          "metadata": {},
          "execution_count": 13
        }
      ]
    },
    {
      "cell_type": "markdown",
      "source": [
        "The estimated number of page views would be extremely high, reaching over 4 million, which is unrealistic based on the daily average of 40,000. This would result in a collection period of over 100 days, making it necessary to abandon this metric as it would cause biased results in the experiment, which is on a much smaller scale."
      ],
      "metadata": {
        "id": "ja57vbtmcqnf"
      }
    },
    {
      "cell_type": "markdown",
      "source": [
        "* **Net Conversion**"
      ],
      "metadata": {
        "id": "wn1vTzUZct84"
      }
    },
    {
      "cell_type": "code",
      "source": [
        "# Getting a nice integer value\n",
        "NC[\"SampSize\"]=round(get_sampSize(get_sds(NC[\"p\"],NC[\"d\"]),0.05,0.2,NC[\"d\"]))\n",
        "NC[\"SampSize\"]"
      ],
      "metadata": {
        "colab": {
          "base_uri": "https://localhost:8080/"
        },
        "id": "ZPdS7feZcuVu",
        "outputId": "33e78498-a21c-4e55-985b-09bb13ddb890"
      },
      "execution_count": 14,
      "outputs": [
        {
          "output_type": "execute_result",
          "data": {
            "text/plain": [
              "27413"
            ]
          },
          "metadata": {},
          "execution_count": 14
        }
      ]
    },
    {
      "cell_type": "code",
      "source": [
        "NC[\"SampSize\"]=NC[\"SampSize\"]/0.08*2\n",
        "NC[\"SampSize\"]"
      ],
      "metadata": {
        "colab": {
          "base_uri": "https://localhost:8080/"
        },
        "id": "-39wbOxucwWu",
        "outputId": "dd530a35-b00f-4597-95db-043e282f17ff"
      },
      "execution_count": 15,
      "outputs": [
        {
          "output_type": "execute_result",
          "data": {
            "text/plain": [
              "685325.0"
            ]
          },
          "metadata": {},
          "execution_count": 15
        }
      ]
    },
    {
      "cell_type": "markdown",
      "source": [
        "We have reached a total of 685,325 cookies who viewed the page. This exceeds the required sample size for Gross Conversion, so this will be our sample size. Based on collecting 80% of daily pageviews, the data collection period for the experiment, during which the experiment will be implemented, will be approximately 3 weeks."
      ],
      "metadata": {
        "id": "zT89D6mnc_S8"
      }
    },
    {
      "cell_type": "markdown",
      "source": [
        "## 5 Analysis <a class=\"anchor\" id=\"analysis\"></a>"
      ],
      "metadata": {
        "id": "C0LTW1iQdSbw"
      }
    },
    {
      "cell_type": "code",
      "source": [
        "control=pd.read_csv(\"../input/control-data/control_data.csv\")\n",
        "experiment=pd.read_csv(\"../input/experiment-data/experiment_data.csv\")\n",
        "control.head()"
      ],
      "metadata": {
        "id": "S0FITsIgdZml"
      },
      "execution_count": null,
      "outputs": []
    },
    {
      "cell_type": "code",
      "source": [
        "from google.colab import files\n",
        "uploaded = files.upload()"
      ],
      "metadata": {
        "colab": {
          "base_uri": "https://localhost:8080/",
          "height": 74
        },
        "id": "7ZG4kYA2dXu1",
        "outputId": "d1fdf72b-4869-4f48-e0e1-4139b8046043"
      },
      "execution_count": 16,
      "outputs": [
        {
          "output_type": "display_data",
          "data": {
            "text/plain": [
              "<IPython.core.display.HTML object>"
            ],
            "text/html": [
              "\n",
              "     <input type=\"file\" id=\"files-881af9ed-bd61-4c7f-900f-6af4a50829dc\" name=\"files[]\" multiple disabled\n",
              "        style=\"border:none\" />\n",
              "     <output id=\"result-881af9ed-bd61-4c7f-900f-6af4a50829dc\">\n",
              "      Upload widget is only available when the cell has been executed in the\n",
              "      current browser session. Please rerun this cell to enable.\n",
              "      </output>\n",
              "      <script>// Copyright 2017 Google LLC\n",
              "//\n",
              "// Licensed under the Apache License, Version 2.0 (the \"License\");\n",
              "// you may not use this file except in compliance with the License.\n",
              "// You may obtain a copy of the License at\n",
              "//\n",
              "//      http://www.apache.org/licenses/LICENSE-2.0\n",
              "//\n",
              "// Unless required by applicable law or agreed to in writing, software\n",
              "// distributed under the License is distributed on an \"AS IS\" BASIS,\n",
              "// WITHOUT WARRANTIES OR CONDITIONS OF ANY KIND, either express or implied.\n",
              "// See the License for the specific language governing permissions and\n",
              "// limitations under the License.\n",
              "\n",
              "/**\n",
              " * @fileoverview Helpers for google.colab Python module.\n",
              " */\n",
              "(function(scope) {\n",
              "function span(text, styleAttributes = {}) {\n",
              "  const element = document.createElement('span');\n",
              "  element.textContent = text;\n",
              "  for (const key of Object.keys(styleAttributes)) {\n",
              "    element.style[key] = styleAttributes[key];\n",
              "  }\n",
              "  return element;\n",
              "}\n",
              "\n",
              "// Max number of bytes which will be uploaded at a time.\n",
              "const MAX_PAYLOAD_SIZE = 100 * 1024;\n",
              "\n",
              "function _uploadFiles(inputId, outputId) {\n",
              "  const steps = uploadFilesStep(inputId, outputId);\n",
              "  const outputElement = document.getElementById(outputId);\n",
              "  // Cache steps on the outputElement to make it available for the next call\n",
              "  // to uploadFilesContinue from Python.\n",
              "  outputElement.steps = steps;\n",
              "\n",
              "  return _uploadFilesContinue(outputId);\n",
              "}\n",
              "\n",
              "// This is roughly an async generator (not supported in the browser yet),\n",
              "// where there are multiple asynchronous steps and the Python side is going\n",
              "// to poll for completion of each step.\n",
              "// This uses a Promise to block the python side on completion of each step,\n",
              "// then passes the result of the previous step as the input to the next step.\n",
              "function _uploadFilesContinue(outputId) {\n",
              "  const outputElement = document.getElementById(outputId);\n",
              "  const steps = outputElement.steps;\n",
              "\n",
              "  const next = steps.next(outputElement.lastPromiseValue);\n",
              "  return Promise.resolve(next.value.promise).then((value) => {\n",
              "    // Cache the last promise value to make it available to the next\n",
              "    // step of the generator.\n",
              "    outputElement.lastPromiseValue = value;\n",
              "    return next.value.response;\n",
              "  });\n",
              "}\n",
              "\n",
              "/**\n",
              " * Generator function which is called between each async step of the upload\n",
              " * process.\n",
              " * @param {string} inputId Element ID of the input file picker element.\n",
              " * @param {string} outputId Element ID of the output display.\n",
              " * @return {!Iterable<!Object>} Iterable of next steps.\n",
              " */\n",
              "function* uploadFilesStep(inputId, outputId) {\n",
              "  const inputElement = document.getElementById(inputId);\n",
              "  inputElement.disabled = false;\n",
              "\n",
              "  const outputElement = document.getElementById(outputId);\n",
              "  outputElement.innerHTML = '';\n",
              "\n",
              "  const pickedPromise = new Promise((resolve) => {\n",
              "    inputElement.addEventListener('change', (e) => {\n",
              "      resolve(e.target.files);\n",
              "    });\n",
              "  });\n",
              "\n",
              "  const cancel = document.createElement('button');\n",
              "  inputElement.parentElement.appendChild(cancel);\n",
              "  cancel.textContent = 'Cancel upload';\n",
              "  const cancelPromise = new Promise((resolve) => {\n",
              "    cancel.onclick = () => {\n",
              "      resolve(null);\n",
              "    };\n",
              "  });\n",
              "\n",
              "  // Wait for the user to pick the files.\n",
              "  const files = yield {\n",
              "    promise: Promise.race([pickedPromise, cancelPromise]),\n",
              "    response: {\n",
              "      action: 'starting',\n",
              "    }\n",
              "  };\n",
              "\n",
              "  cancel.remove();\n",
              "\n",
              "  // Disable the input element since further picks are not allowed.\n",
              "  inputElement.disabled = true;\n",
              "\n",
              "  if (!files) {\n",
              "    return {\n",
              "      response: {\n",
              "        action: 'complete',\n",
              "      }\n",
              "    };\n",
              "  }\n",
              "\n",
              "  for (const file of files) {\n",
              "    const li = document.createElement('li');\n",
              "    li.append(span(file.name, {fontWeight: 'bold'}));\n",
              "    li.append(span(\n",
              "        `(${file.type || 'n/a'}) - ${file.size} bytes, ` +\n",
              "        `last modified: ${\n",
              "            file.lastModifiedDate ? file.lastModifiedDate.toLocaleDateString() :\n",
              "                                    'n/a'} - `));\n",
              "    const percent = span('0% done');\n",
              "    li.appendChild(percent);\n",
              "\n",
              "    outputElement.appendChild(li);\n",
              "\n",
              "    const fileDataPromise = new Promise((resolve) => {\n",
              "      const reader = new FileReader();\n",
              "      reader.onload = (e) => {\n",
              "        resolve(e.target.result);\n",
              "      };\n",
              "      reader.readAsArrayBuffer(file);\n",
              "    });\n",
              "    // Wait for the data to be ready.\n",
              "    let fileData = yield {\n",
              "      promise: fileDataPromise,\n",
              "      response: {\n",
              "        action: 'continue',\n",
              "      }\n",
              "    };\n",
              "\n",
              "    // Use a chunked sending to avoid message size limits. See b/62115660.\n",
              "    let position = 0;\n",
              "    do {\n",
              "      const length = Math.min(fileData.byteLength - position, MAX_PAYLOAD_SIZE);\n",
              "      const chunk = new Uint8Array(fileData, position, length);\n",
              "      position += length;\n",
              "\n",
              "      const base64 = btoa(String.fromCharCode.apply(null, chunk));\n",
              "      yield {\n",
              "        response: {\n",
              "          action: 'append',\n",
              "          file: file.name,\n",
              "          data: base64,\n",
              "        },\n",
              "      };\n",
              "\n",
              "      let percentDone = fileData.byteLength === 0 ?\n",
              "          100 :\n",
              "          Math.round((position / fileData.byteLength) * 100);\n",
              "      percent.textContent = `${percentDone}% done`;\n",
              "\n",
              "    } while (position < fileData.byteLength);\n",
              "  }\n",
              "\n",
              "  // All done.\n",
              "  yield {\n",
              "    response: {\n",
              "      action: 'complete',\n",
              "    }\n",
              "  };\n",
              "}\n",
              "\n",
              "scope.google = scope.google || {};\n",
              "scope.google.colab = scope.google.colab || {};\n",
              "scope.google.colab._files = {\n",
              "  _uploadFiles,\n",
              "  _uploadFilesContinue,\n",
              "};\n",
              "})(self);\n",
              "</script> "
            ]
          },
          "metadata": {}
        },
        {
          "output_type": "stream",
          "name": "stdout",
          "text": [
            "Saving control - Sheet1.csv to control - Sheet1.csv\n"
          ]
        }
      ]
    },
    {
      "cell_type": "code",
      "source": [
        "uploaded = files.upload()"
      ],
      "metadata": {
        "colab": {
          "base_uri": "https://localhost:8080/",
          "height": 74
        },
        "id": "TvcWnr78fwm0",
        "outputId": "c8204b45-122a-4802-a9f9-8b16a5339968"
      },
      "execution_count": 40,
      "outputs": [
        {
          "output_type": "display_data",
          "data": {
            "text/plain": [
              "<IPython.core.display.HTML object>"
            ],
            "text/html": [
              "\n",
              "     <input type=\"file\" id=\"files-8d3346bd-a40a-4d15-aa47-c933f65a6f18\" name=\"files[]\" multiple disabled\n",
              "        style=\"border:none\" />\n",
              "     <output id=\"result-8d3346bd-a40a-4d15-aa47-c933f65a6f18\">\n",
              "      Upload widget is only available when the cell has been executed in the\n",
              "      current browser session. Please rerun this cell to enable.\n",
              "      </output>\n",
              "      <script>// Copyright 2017 Google LLC\n",
              "//\n",
              "// Licensed under the Apache License, Version 2.0 (the \"License\");\n",
              "// you may not use this file except in compliance with the License.\n",
              "// You may obtain a copy of the License at\n",
              "//\n",
              "//      http://www.apache.org/licenses/LICENSE-2.0\n",
              "//\n",
              "// Unless required by applicable law or agreed to in writing, software\n",
              "// distributed under the License is distributed on an \"AS IS\" BASIS,\n",
              "// WITHOUT WARRANTIES OR CONDITIONS OF ANY KIND, either express or implied.\n",
              "// See the License for the specific language governing permissions and\n",
              "// limitations under the License.\n",
              "\n",
              "/**\n",
              " * @fileoverview Helpers for google.colab Python module.\n",
              " */\n",
              "(function(scope) {\n",
              "function span(text, styleAttributes = {}) {\n",
              "  const element = document.createElement('span');\n",
              "  element.textContent = text;\n",
              "  for (const key of Object.keys(styleAttributes)) {\n",
              "    element.style[key] = styleAttributes[key];\n",
              "  }\n",
              "  return element;\n",
              "}\n",
              "\n",
              "// Max number of bytes which will be uploaded at a time.\n",
              "const MAX_PAYLOAD_SIZE = 100 * 1024;\n",
              "\n",
              "function _uploadFiles(inputId, outputId) {\n",
              "  const steps = uploadFilesStep(inputId, outputId);\n",
              "  const outputElement = document.getElementById(outputId);\n",
              "  // Cache steps on the outputElement to make it available for the next call\n",
              "  // to uploadFilesContinue from Python.\n",
              "  outputElement.steps = steps;\n",
              "\n",
              "  return _uploadFilesContinue(outputId);\n",
              "}\n",
              "\n",
              "// This is roughly an async generator (not supported in the browser yet),\n",
              "// where there are multiple asynchronous steps and the Python side is going\n",
              "// to poll for completion of each step.\n",
              "// This uses a Promise to block the python side on completion of each step,\n",
              "// then passes the result of the previous step as the input to the next step.\n",
              "function _uploadFilesContinue(outputId) {\n",
              "  const outputElement = document.getElementById(outputId);\n",
              "  const steps = outputElement.steps;\n",
              "\n",
              "  const next = steps.next(outputElement.lastPromiseValue);\n",
              "  return Promise.resolve(next.value.promise).then((value) => {\n",
              "    // Cache the last promise value to make it available to the next\n",
              "    // step of the generator.\n",
              "    outputElement.lastPromiseValue = value;\n",
              "    return next.value.response;\n",
              "  });\n",
              "}\n",
              "\n",
              "/**\n",
              " * Generator function which is called between each async step of the upload\n",
              " * process.\n",
              " * @param {string} inputId Element ID of the input file picker element.\n",
              " * @param {string} outputId Element ID of the output display.\n",
              " * @return {!Iterable<!Object>} Iterable of next steps.\n",
              " */\n",
              "function* uploadFilesStep(inputId, outputId) {\n",
              "  const inputElement = document.getElementById(inputId);\n",
              "  inputElement.disabled = false;\n",
              "\n",
              "  const outputElement = document.getElementById(outputId);\n",
              "  outputElement.innerHTML = '';\n",
              "\n",
              "  const pickedPromise = new Promise((resolve) => {\n",
              "    inputElement.addEventListener('change', (e) => {\n",
              "      resolve(e.target.files);\n",
              "    });\n",
              "  });\n",
              "\n",
              "  const cancel = document.createElement('button');\n",
              "  inputElement.parentElement.appendChild(cancel);\n",
              "  cancel.textContent = 'Cancel upload';\n",
              "  const cancelPromise = new Promise((resolve) => {\n",
              "    cancel.onclick = () => {\n",
              "      resolve(null);\n",
              "    };\n",
              "  });\n",
              "\n",
              "  // Wait for the user to pick the files.\n",
              "  const files = yield {\n",
              "    promise: Promise.race([pickedPromise, cancelPromise]),\n",
              "    response: {\n",
              "      action: 'starting',\n",
              "    }\n",
              "  };\n",
              "\n",
              "  cancel.remove();\n",
              "\n",
              "  // Disable the input element since further picks are not allowed.\n",
              "  inputElement.disabled = true;\n",
              "\n",
              "  if (!files) {\n",
              "    return {\n",
              "      response: {\n",
              "        action: 'complete',\n",
              "      }\n",
              "    };\n",
              "  }\n",
              "\n",
              "  for (const file of files) {\n",
              "    const li = document.createElement('li');\n",
              "    li.append(span(file.name, {fontWeight: 'bold'}));\n",
              "    li.append(span(\n",
              "        `(${file.type || 'n/a'}) - ${file.size} bytes, ` +\n",
              "        `last modified: ${\n",
              "            file.lastModifiedDate ? file.lastModifiedDate.toLocaleDateString() :\n",
              "                                    'n/a'} - `));\n",
              "    const percent = span('0% done');\n",
              "    li.appendChild(percent);\n",
              "\n",
              "    outputElement.appendChild(li);\n",
              "\n",
              "    const fileDataPromise = new Promise((resolve) => {\n",
              "      const reader = new FileReader();\n",
              "      reader.onload = (e) => {\n",
              "        resolve(e.target.result);\n",
              "      };\n",
              "      reader.readAsArrayBuffer(file);\n",
              "    });\n",
              "    // Wait for the data to be ready.\n",
              "    let fileData = yield {\n",
              "      promise: fileDataPromise,\n",
              "      response: {\n",
              "        action: 'continue',\n",
              "      }\n",
              "    };\n",
              "\n",
              "    // Use a chunked sending to avoid message size limits. See b/62115660.\n",
              "    let position = 0;\n",
              "    do {\n",
              "      const length = Math.min(fileData.byteLength - position, MAX_PAYLOAD_SIZE);\n",
              "      const chunk = new Uint8Array(fileData, position, length);\n",
              "      position += length;\n",
              "\n",
              "      const base64 = btoa(String.fromCharCode.apply(null, chunk));\n",
              "      yield {\n",
              "        response: {\n",
              "          action: 'append',\n",
              "          file: file.name,\n",
              "          data: base64,\n",
              "        },\n",
              "      };\n",
              "\n",
              "      let percentDone = fileData.byteLength === 0 ?\n",
              "          100 :\n",
              "          Math.round((position / fileData.byteLength) * 100);\n",
              "      percent.textContent = `${percentDone}% done`;\n",
              "\n",
              "    } while (position < fileData.byteLength);\n",
              "  }\n",
              "\n",
              "  // All done.\n",
              "  yield {\n",
              "    response: {\n",
              "      action: 'complete',\n",
              "    }\n",
              "  };\n",
              "}\n",
              "\n",
              "scope.google = scope.google || {};\n",
              "scope.google.colab = scope.google.colab || {};\n",
              "scope.google.colab._files = {\n",
              "  _uploadFiles,\n",
              "  _uploadFilesContinue,\n",
              "};\n",
              "})(self);\n",
              "</script> "
            ]
          },
          "metadata": {}
        },
        {
          "output_type": "stream",
          "name": "stdout",
          "text": [
            "Saving experiment - Sheet1 (1).csv to experiment - Sheet1 (1).csv\n"
          ]
        }
      ]
    },
    {
      "cell_type": "code",
      "source": [
        "control = pd.read_csv(\"control - Sheet1.csv\")"
      ],
      "metadata": {
        "id": "L_j_-Z_cf4Nb"
      },
      "execution_count": 37,
      "outputs": []
    },
    {
      "cell_type": "code",
      "source": [
        "experiment = pd.read_csv(\"experiment - Sheet1 (1).csv\")"
      ],
      "metadata": {
        "id": "7_F0zvsikI_W"
      },
      "execution_count": 41,
      "outputs": []
    },
    {
      "cell_type": "code",
      "source": [
        "control.head()"
      ],
      "metadata": {
        "colab": {
          "base_uri": "https://localhost:8080/",
          "height": 206
        },
        "id": "p8Yafv-Kjrcj",
        "outputId": "2386a8be-275c-4155-e766-ef566f9587ee"
      },
      "execution_count": 38,
      "outputs": [
        {
          "output_type": "execute_result",
          "data": {
            "text/plain": [
              "          Date  Pageviews  Clicks  Enrollments  Payments\n",
              "0  Sat, Oct 11       7723     687        134.0      70.0\n",
              "1  Sun, Oct 12       9102     779        147.0      70.0\n",
              "2  Mon, Oct 13      10511     909        167.0      95.0\n",
              "3  Tue, Oct 14       9871     836        156.0     105.0\n",
              "4  Wed, Oct 15      10014     837        163.0      64.0"
            ],
            "text/html": [
              "\n",
              "  <div id=\"df-4d0483eb-c354-4551-bd72-53cdc56e729c\">\n",
              "    <div class=\"colab-df-container\">\n",
              "      <div>\n",
              "<style scoped>\n",
              "    .dataframe tbody tr th:only-of-type {\n",
              "        vertical-align: middle;\n",
              "    }\n",
              "\n",
              "    .dataframe tbody tr th {\n",
              "        vertical-align: top;\n",
              "    }\n",
              "\n",
              "    .dataframe thead th {\n",
              "        text-align: right;\n",
              "    }\n",
              "</style>\n",
              "<table border=\"1\" class=\"dataframe\">\n",
              "  <thead>\n",
              "    <tr style=\"text-align: right;\">\n",
              "      <th></th>\n",
              "      <th>Date</th>\n",
              "      <th>Pageviews</th>\n",
              "      <th>Clicks</th>\n",
              "      <th>Enrollments</th>\n",
              "      <th>Payments</th>\n",
              "    </tr>\n",
              "  </thead>\n",
              "  <tbody>\n",
              "    <tr>\n",
              "      <th>0</th>\n",
              "      <td>Sat, Oct 11</td>\n",
              "      <td>7723</td>\n",
              "      <td>687</td>\n",
              "      <td>134.0</td>\n",
              "      <td>70.0</td>\n",
              "    </tr>\n",
              "    <tr>\n",
              "      <th>1</th>\n",
              "      <td>Sun, Oct 12</td>\n",
              "      <td>9102</td>\n",
              "      <td>779</td>\n",
              "      <td>147.0</td>\n",
              "      <td>70.0</td>\n",
              "    </tr>\n",
              "    <tr>\n",
              "      <th>2</th>\n",
              "      <td>Mon, Oct 13</td>\n",
              "      <td>10511</td>\n",
              "      <td>909</td>\n",
              "      <td>167.0</td>\n",
              "      <td>95.0</td>\n",
              "    </tr>\n",
              "    <tr>\n",
              "      <th>3</th>\n",
              "      <td>Tue, Oct 14</td>\n",
              "      <td>9871</td>\n",
              "      <td>836</td>\n",
              "      <td>156.0</td>\n",
              "      <td>105.0</td>\n",
              "    </tr>\n",
              "    <tr>\n",
              "      <th>4</th>\n",
              "      <td>Wed, Oct 15</td>\n",
              "      <td>10014</td>\n",
              "      <td>837</td>\n",
              "      <td>163.0</td>\n",
              "      <td>64.0</td>\n",
              "    </tr>\n",
              "  </tbody>\n",
              "</table>\n",
              "</div>\n",
              "      <button class=\"colab-df-convert\" onclick=\"convertToInteractive('df-4d0483eb-c354-4551-bd72-53cdc56e729c')\"\n",
              "              title=\"Convert this dataframe to an interactive table.\"\n",
              "              style=\"display:none;\">\n",
              "        \n",
              "  <svg xmlns=\"http://www.w3.org/2000/svg\" height=\"24px\"viewBox=\"0 0 24 24\"\n",
              "       width=\"24px\">\n",
              "    <path d=\"M0 0h24v24H0V0z\" fill=\"none\"/>\n",
              "    <path d=\"M18.56 5.44l.94 2.06.94-2.06 2.06-.94-2.06-.94-.94-2.06-.94 2.06-2.06.94zm-11 1L8.5 8.5l.94-2.06 2.06-.94-2.06-.94L8.5 2.5l-.94 2.06-2.06.94zm10 10l.94 2.06.94-2.06 2.06-.94-2.06-.94-.94-2.06-.94 2.06-2.06.94z\"/><path d=\"M17.41 7.96l-1.37-1.37c-.4-.4-.92-.59-1.43-.59-.52 0-1.04.2-1.43.59L10.3 9.45l-7.72 7.72c-.78.78-.78 2.05 0 2.83L4 21.41c.39.39.9.59 1.41.59.51 0 1.02-.2 1.41-.59l7.78-7.78 2.81-2.81c.8-.78.8-2.07 0-2.86zM5.41 20L4 18.59l7.72-7.72 1.47 1.35L5.41 20z\"/>\n",
              "  </svg>\n",
              "      </button>\n",
              "      \n",
              "  <style>\n",
              "    .colab-df-container {\n",
              "      display:flex;\n",
              "      flex-wrap:wrap;\n",
              "      gap: 12px;\n",
              "    }\n",
              "\n",
              "    .colab-df-convert {\n",
              "      background-color: #E8F0FE;\n",
              "      border: none;\n",
              "      border-radius: 50%;\n",
              "      cursor: pointer;\n",
              "      display: none;\n",
              "      fill: #1967D2;\n",
              "      height: 32px;\n",
              "      padding: 0 0 0 0;\n",
              "      width: 32px;\n",
              "    }\n",
              "\n",
              "    .colab-df-convert:hover {\n",
              "      background-color: #E2EBFA;\n",
              "      box-shadow: 0px 1px 2px rgba(60, 64, 67, 0.3), 0px 1px 3px 1px rgba(60, 64, 67, 0.15);\n",
              "      fill: #174EA6;\n",
              "    }\n",
              "\n",
              "    [theme=dark] .colab-df-convert {\n",
              "      background-color: #3B4455;\n",
              "      fill: #D2E3FC;\n",
              "    }\n",
              "\n",
              "    [theme=dark] .colab-df-convert:hover {\n",
              "      background-color: #434B5C;\n",
              "      box-shadow: 0px 1px 3px 1px rgba(0, 0, 0, 0.15);\n",
              "      filter: drop-shadow(0px 1px 2px rgba(0, 0, 0, 0.3));\n",
              "      fill: #FFFFFF;\n",
              "    }\n",
              "  </style>\n",
              "\n",
              "      <script>\n",
              "        const buttonEl =\n",
              "          document.querySelector('#df-4d0483eb-c354-4551-bd72-53cdc56e729c button.colab-df-convert');\n",
              "        buttonEl.style.display =\n",
              "          google.colab.kernel.accessAllowed ? 'block' : 'none';\n",
              "\n",
              "        async function convertToInteractive(key) {\n",
              "          const element = document.querySelector('#df-4d0483eb-c354-4551-bd72-53cdc56e729c');\n",
              "          const dataTable =\n",
              "            await google.colab.kernel.invokeFunction('convertToInteractive',\n",
              "                                                     [key], {});\n",
              "          if (!dataTable) return;\n",
              "\n",
              "          const docLinkHtml = 'Like what you see? Visit the ' +\n",
              "            '<a target=\"_blank\" href=https://colab.research.google.com/notebooks/data_table.ipynb>data table notebook</a>'\n",
              "            + ' to learn more about interactive tables.';\n",
              "          element.innerHTML = '';\n",
              "          dataTable['output_type'] = 'display_data';\n",
              "          await google.colab.output.renderOutput(dataTable, element);\n",
              "          const docLink = document.createElement('div');\n",
              "          docLink.innerHTML = docLinkHtml;\n",
              "          element.appendChild(docLink);\n",
              "        }\n",
              "      </script>\n",
              "    </div>\n",
              "  </div>\n",
              "  "
            ]
          },
          "metadata": {},
          "execution_count": 38
        }
      ]
    },
    {
      "cell_type": "code",
      "source": [
        "experiment.head()"
      ],
      "metadata": {
        "colab": {
          "base_uri": "https://localhost:8080/",
          "height": 206
        },
        "id": "Axbrcr74jsYm",
        "outputId": "e874b85a-b61b-4204-c918-fbbb86bb5c29"
      },
      "execution_count": 42,
      "outputs": [
        {
          "output_type": "execute_result",
          "data": {
            "text/plain": [
              "          Date  Pageviews  Clicks  Enrollments  Payments\n",
              "0  Sat, Oct 11       7716     686        105.0      34.0\n",
              "1  Sun, Oct 12       9288     785        116.0      91.0\n",
              "2  Mon, Oct 13      10480     884        145.0      79.0\n",
              "3  Tue, Oct 14       9867     827        138.0      92.0\n",
              "4  Wed, Oct 15       9793     832        140.0      94.0"
            ],
            "text/html": [
              "\n",
              "  <div id=\"df-528366a6-c321-4858-b6d8-bd62fc86f262\">\n",
              "    <div class=\"colab-df-container\">\n",
              "      <div>\n",
              "<style scoped>\n",
              "    .dataframe tbody tr th:only-of-type {\n",
              "        vertical-align: middle;\n",
              "    }\n",
              "\n",
              "    .dataframe tbody tr th {\n",
              "        vertical-align: top;\n",
              "    }\n",
              "\n",
              "    .dataframe thead th {\n",
              "        text-align: right;\n",
              "    }\n",
              "</style>\n",
              "<table border=\"1\" class=\"dataframe\">\n",
              "  <thead>\n",
              "    <tr style=\"text-align: right;\">\n",
              "      <th></th>\n",
              "      <th>Date</th>\n",
              "      <th>Pageviews</th>\n",
              "      <th>Clicks</th>\n",
              "      <th>Enrollments</th>\n",
              "      <th>Payments</th>\n",
              "    </tr>\n",
              "  </thead>\n",
              "  <tbody>\n",
              "    <tr>\n",
              "      <th>0</th>\n",
              "      <td>Sat, Oct 11</td>\n",
              "      <td>7716</td>\n",
              "      <td>686</td>\n",
              "      <td>105.0</td>\n",
              "      <td>34.0</td>\n",
              "    </tr>\n",
              "    <tr>\n",
              "      <th>1</th>\n",
              "      <td>Sun, Oct 12</td>\n",
              "      <td>9288</td>\n",
              "      <td>785</td>\n",
              "      <td>116.0</td>\n",
              "      <td>91.0</td>\n",
              "    </tr>\n",
              "    <tr>\n",
              "      <th>2</th>\n",
              "      <td>Mon, Oct 13</td>\n",
              "      <td>10480</td>\n",
              "      <td>884</td>\n",
              "      <td>145.0</td>\n",
              "      <td>79.0</td>\n",
              "    </tr>\n",
              "    <tr>\n",
              "      <th>3</th>\n",
              "      <td>Tue, Oct 14</td>\n",
              "      <td>9867</td>\n",
              "      <td>827</td>\n",
              "      <td>138.0</td>\n",
              "      <td>92.0</td>\n",
              "    </tr>\n",
              "    <tr>\n",
              "      <th>4</th>\n",
              "      <td>Wed, Oct 15</td>\n",
              "      <td>9793</td>\n",
              "      <td>832</td>\n",
              "      <td>140.0</td>\n",
              "      <td>94.0</td>\n",
              "    </tr>\n",
              "  </tbody>\n",
              "</table>\n",
              "</div>\n",
              "      <button class=\"colab-df-convert\" onclick=\"convertToInteractive('df-528366a6-c321-4858-b6d8-bd62fc86f262')\"\n",
              "              title=\"Convert this dataframe to an interactive table.\"\n",
              "              style=\"display:none;\">\n",
              "        \n",
              "  <svg xmlns=\"http://www.w3.org/2000/svg\" height=\"24px\"viewBox=\"0 0 24 24\"\n",
              "       width=\"24px\">\n",
              "    <path d=\"M0 0h24v24H0V0z\" fill=\"none\"/>\n",
              "    <path d=\"M18.56 5.44l.94 2.06.94-2.06 2.06-.94-2.06-.94-.94-2.06-.94 2.06-2.06.94zm-11 1L8.5 8.5l.94-2.06 2.06-.94-2.06-.94L8.5 2.5l-.94 2.06-2.06.94zm10 10l.94 2.06.94-2.06 2.06-.94-2.06-.94-.94-2.06-.94 2.06-2.06.94z\"/><path d=\"M17.41 7.96l-1.37-1.37c-.4-.4-.92-.59-1.43-.59-.52 0-1.04.2-1.43.59L10.3 9.45l-7.72 7.72c-.78.78-.78 2.05 0 2.83L4 21.41c.39.39.9.59 1.41.59.51 0 1.02-.2 1.41-.59l7.78-7.78 2.81-2.81c.8-.78.8-2.07 0-2.86zM5.41 20L4 18.59l7.72-7.72 1.47 1.35L5.41 20z\"/>\n",
              "  </svg>\n",
              "      </button>\n",
              "      \n",
              "  <style>\n",
              "    .colab-df-container {\n",
              "      display:flex;\n",
              "      flex-wrap:wrap;\n",
              "      gap: 12px;\n",
              "    }\n",
              "\n",
              "    .colab-df-convert {\n",
              "      background-color: #E8F0FE;\n",
              "      border: none;\n",
              "      border-radius: 50%;\n",
              "      cursor: pointer;\n",
              "      display: none;\n",
              "      fill: #1967D2;\n",
              "      height: 32px;\n",
              "      padding: 0 0 0 0;\n",
              "      width: 32px;\n",
              "    }\n",
              "\n",
              "    .colab-df-convert:hover {\n",
              "      background-color: #E2EBFA;\n",
              "      box-shadow: 0px 1px 2px rgba(60, 64, 67, 0.3), 0px 1px 3px 1px rgba(60, 64, 67, 0.15);\n",
              "      fill: #174EA6;\n",
              "    }\n",
              "\n",
              "    [theme=dark] .colab-df-convert {\n",
              "      background-color: #3B4455;\n",
              "      fill: #D2E3FC;\n",
              "    }\n",
              "\n",
              "    [theme=dark] .colab-df-convert:hover {\n",
              "      background-color: #434B5C;\n",
              "      box-shadow: 0px 1px 3px 1px rgba(0, 0, 0, 0.15);\n",
              "      filter: drop-shadow(0px 1px 2px rgba(0, 0, 0, 0.3));\n",
              "      fill: #FFFFFF;\n",
              "    }\n",
              "  </style>\n",
              "\n",
              "      <script>\n",
              "        const buttonEl =\n",
              "          document.querySelector('#df-528366a6-c321-4858-b6d8-bd62fc86f262 button.colab-df-convert');\n",
              "        buttonEl.style.display =\n",
              "          google.colab.kernel.accessAllowed ? 'block' : 'none';\n",
              "\n",
              "        async function convertToInteractive(key) {\n",
              "          const element = document.querySelector('#df-528366a6-c321-4858-b6d8-bd62fc86f262');\n",
              "          const dataTable =\n",
              "            await google.colab.kernel.invokeFunction('convertToInteractive',\n",
              "                                                     [key], {});\n",
              "          if (!dataTable) return;\n",
              "\n",
              "          const docLinkHtml = 'Like what you see? Visit the ' +\n",
              "            '<a target=\"_blank\" href=https://colab.research.google.com/notebooks/data_table.ipynb>data table notebook</a>'\n",
              "            + ' to learn more about interactive tables.';\n",
              "          element.innerHTML = '';\n",
              "          dataTable['output_type'] = 'display_data';\n",
              "          await google.colab.output.renderOutput(dataTable, element);\n",
              "          const docLink = document.createElement('div');\n",
              "          docLink.innerHTML = docLinkHtml;\n",
              "          element.appendChild(docLink);\n",
              "        }\n",
              "      </script>\n",
              "    </div>\n",
              "  </div>\n",
              "  "
            ]
          },
          "metadata": {},
          "execution_count": 42
        }
      ]
    },
    {
      "cell_type": "markdown",
      "source": [
        "### 5.2 Sanity Checks <a class=\"anchor\" id=\"sanity\"></a>\n",
        "\n",
        "We have 3 Invariant metrics:: \n",
        "* Number of Cookies in Course Overview Page\n",
        "* Number of Clicks on Free Trial Button\n",
        "* Free Trial button Click-Through-Probability\n",
        "\n",
        "\n",
        "#### 6.2.1 Sanity Checks for differences between counts <a class=\"anchor\" id=\"check_counts\"></a>\n",
        "* **Number of cookies who viewed the course overview page**"
      ],
      "metadata": {
        "id": "_w_6wYmugu7P"
      }
    },
    {
      "cell_type": "code",
      "source": [
        "pageviews_cont=control['Pageviews'].sum()\n",
        "pageviews_exp=experiment['Pageviews'].sum()\n",
        "pageviews_total=pageviews_cont+pageviews_exp\n",
        "print (\"number of pageviews in control:\", pageviews_cont)\n",
        "print (\"number of Pageviewsin experiment:\" ,pageviews_exp)"
      ],
      "metadata": {
        "colab": {
          "base_uri": "https://localhost:8080/"
        },
        "id": "81W94bghg0ya",
        "outputId": "2ce6eeba-fabf-4adb-9d26-7b85d5a62010"
      },
      "execution_count": 43,
      "outputs": [
        {
          "output_type": "stream",
          "name": "stdout",
          "text": [
            "number of pageviews in control: 345543\n",
            "number of Pageviewsin experiment: 344660\n"
          ]
        }
      ]
    },
    {
      "cell_type": "code",
      "source": [
        "p=0.5\n",
        "alpha=0.05\n",
        "p_hat=round(pageviews_cont/(pageviews_total),4)\n",
        "sd=mt.sqrt(p*(1-p)/(pageviews_total))\n",
        "ME=round(get_z_score(1-(alpha/2))*sd,4)\n",
        "print (\"The confidence interval is between\",p-ME,\"and\",p+ME)"
      ],
      "metadata": {
        "colab": {
          "base_uri": "https://localhost:8080/"
        },
        "id": "qrFISIp0g23j",
        "outputId": "6d8cb4b7-948d-4e5d-cfad-1ea3a65f4424"
      },
      "execution_count": 44,
      "outputs": [
        {
          "output_type": "stream",
          "name": "stdout",
          "text": [
            "The confidence interval is between 0.4988 and 0.5012\n"
          ]
        }
      ]
    },
    {
      "cell_type": "markdown",
      "source": [
        "* **Number of cookies who clicked the Free Trial Button**"
      ],
      "metadata": {
        "id": "iXTmRR3fhaH-"
      }
    },
    {
      "cell_type": "code",
      "source": [
        "clicks_cont=control['Clicks'].sum()\n",
        "clicks_exp=experiment['Clicks'].sum()\n",
        "clicks_total=clicks_cont+clicks_exp\n",
        "\n",
        "p_hat=round(clicks_cont/clicks_total,4)\n",
        "sd=mt.sqrt(p*(1-p)/clicks_total)\n",
        "ME=round(get_z_score(1-(alpha/2))*sd,4)\n",
        "print (\"The confidence interval is between\",p-ME,\"and\",p+ME)"
      ],
      "metadata": {
        "colab": {
          "base_uri": "https://localhost:8080/"
        },
        "id": "Al1Aqe33hah3",
        "outputId": "a8d5ea5b-fefd-40fe-89bf-b54fb5bccaf1"
      },
      "execution_count": 45,
      "outputs": [
        {
          "output_type": "stream",
          "name": "stdout",
          "text": [
            "The confidence interval is between 0.4959 and 0.5041\n"
          ]
        }
      ]
    },
    {
      "cell_type": "markdown",
      "source": [
        "#### 5.2.2 Sanity Checks for differences between probabilities <a class=\"anchor\" id=\"check_prob\"></a>"
      ],
      "metadata": {
        "id": "C0kHtxr2hs5P"
      }
    },
    {
      "cell_type": "code",
      "source": [
        "ctp_cont=clicks_cont/pageviews_cont\n",
        "ctp_exp=clicks_exp/pageviews_exp\n",
        "d_hat=round(ctp_exp-ctp_cont,4)\n",
        "p_pooled=clicks_total/pageviews_total\n",
        "sd_pooled=mt.sqrt(p_pooled*(1-p_pooled)*(1/pageviews_cont+1/pageviews_exp))\n",
        "ME=round(get_z_score(1-(alpha/2))*sd_pooled,4)\n",
        "print (\"The confidence interval is between\",0-ME,\"and\",0+ME)"
      ],
      "metadata": {
        "colab": {
          "base_uri": "https://localhost:8080/"
        },
        "id": "8xV9QrHAhuKH",
        "outputId": "a39ad3ee-85d1-48be-dcb0-c3642bc845b3"
      },
      "execution_count": 46,
      "outputs": [
        {
          "output_type": "stream",
          "name": "stdout",
          "text": [
            "The confidence interval is between -0.0013 and 0.0013\n"
          ]
        }
      ]
    },
    {
      "cell_type": "markdown",
      "source": [
        "### 5.3 Examining effect size <a class=\"anchor\" id=\"effect\"></a>"
      ],
      "metadata": {
        "id": "vE3OYd3Qh4vK"
      }
    },
    {
      "cell_type": "code",
      "source": [
        "# Count the total clicks from complete records only\n",
        "clicks_cont=control[\"Clicks\"].loc[control[\"Enrollments\"].notnull()].sum()\n",
        "clicks_exp=experiment[\"Clicks\"].loc[experiment[\"Enrollments\"].notnull()].sum()"
      ],
      "metadata": {
        "id": "LweihygNh6RU"
      },
      "execution_count": 47,
      "outputs": []
    },
    {
      "cell_type": "code",
      "source": [
        "#Gross Conversion - number of enrollments divided by number of clicks\n",
        "enrollments_cont=control[\"Enrollments\"].sum()\n",
        "enrollments_exp=experiment[\"Enrollments\"].sum()\n",
        "\n",
        "GC_cont=enrollments_cont/clicks_cont\n",
        "GC_exp=enrollments_exp/clicks_exp\n",
        "GC_pooled=(enrollments_cont+enrollments_exp)/(clicks_cont+clicks_exp)\n",
        "GC_sd_pooled=mt.sqrt(GC_pooled*(1-GC_pooled)*(1/clicks_cont+1/clicks_exp))\n",
        "GC_ME=round(get_z_score(1-alpha/2)*GC_sd_pooled,4)\n",
        "GC_diff=round(GC_exp-GC_cont,4)\n",
        "print(\"The change due to the experiment is\",GC_diff*100,\"%\")\n",
        "print(\"Confidence Interval: [\",GC_diff-GC_ME,\",\",GC_diff+GC_ME,\"]\")\n",
        "print (\"The change is statistically significant if the CI doesn't include 0. In that case, it is practically significant if\",-GC[\"d_min\"],\"is not in the CI as well.\")"
      ],
      "metadata": {
        "colab": {
          "base_uri": "https://localhost:8080/"
        },
        "id": "GPNaD2qkh83c",
        "outputId": "11d2a9c4-9af0-42c1-d4fd-a8cfbb0aa830"
      },
      "execution_count": 48,
      "outputs": [
        {
          "output_type": "stream",
          "name": "stdout",
          "text": [
            "The change due to the experiment is -2.06 %\n",
            "Confidence Interval: [ -0.0292 , -0.012 ]\n",
            "The change is statistically significant if the CI doesn't include 0. In that case, it is practically significant if -0.01 is not in the CI as well.\n"
          ]
        }
      ]
    },
    {
      "cell_type": "markdown",
      "source": [
        "* **Net Conversion** "
      ],
      "metadata": {
        "id": "ArIBJ4RviUlZ"
      }
    },
    {
      "cell_type": "code",
      "source": [
        "#Net Conversion - number of payments divided by number of clicks\n",
        "payments_cont=control[\"Payments\"].sum()\n",
        "payments_exp=experiment[\"Payments\"].sum()\n",
        "\n",
        "NC_cont=payments_cont/clicks_cont\n",
        "NC_exp=payments_exp/clicks_exp\n",
        "NC_pooled=(payments_cont+payments_exp)/(clicks_cont+clicks_exp)\n",
        "NC_sd_pooled=mt.sqrt(NC_pooled*(1-NC_pooled)*(1/clicks_cont+1/clicks_exp))\n",
        "NC_ME=round(get_z_score(1-alpha/2)*NC_sd_pooled,4)\n",
        "NC_diff=round(NC_exp-NC_cont,4)\n",
        "print(\"The change due to the experiment is\",NC_diff*100,\"%\")\n",
        "print(\"Confidence Interval: [\",NC_diff-NC_ME,\",\",NC_diff+NC_ME,\"]\")\n",
        "print (\"The change is statistically significant if the CI doesn't include 0. In that case, it is practically significant if\",NC[\"d_min\"],\"is not in the CI as well.\")"
      ],
      "metadata": {
        "colab": {
          "base_uri": "https://localhost:8080/"
        },
        "id": "km8kMxRDiVCn",
        "outputId": "e5c92995-87a4-4bf2-c895-19399af32700"
      },
      "execution_count": 49,
      "outputs": [
        {
          "output_type": "stream",
          "name": "stdout",
          "text": [
            "The change due to the experiment is -0.49 %\n",
            "Confidence Interval: [ -0.0116 , 0.0018000000000000004 ]\n",
            "The change is statistically significant if the CI doesn't include 0. In that case, it is practically significant if 0.0075 is not in the CI as well.\n"
          ]
        }
      ]
    },
    {
      "cell_type": "markdown",
      "source": [
        "## 5.4 Double check with Sign Tests <a class=\"anchor\" id=\"sign_tests\"></a>"
      ],
      "metadata": {
        "id": "T4Z-3Dvyig69"
      }
    },
    {
      "cell_type": "code",
      "source": [
        "#let's first create the dataset we need for this:\n",
        "# start by merging the two datasets\n",
        "full=control.join(other=experiment,how=\"inner\",lsuffix=\"_cont\",rsuffix=\"_exp\")\n",
        "#Let's look at what we got\n",
        "full.count()"
      ],
      "metadata": {
        "colab": {
          "base_uri": "https://localhost:8080/"
        },
        "id": "imEgnKmCiiMs",
        "outputId": "1bc3ac09-cbad-4b4e-cd8b-f9137eb4f9e3"
      },
      "execution_count": 50,
      "outputs": [
        {
          "output_type": "execute_result",
          "data": {
            "text/plain": [
              "Date_cont           37\n",
              "Pageviews_cont      37\n",
              "Clicks_cont         37\n",
              "Enrollments_cont    23\n",
              "Payments_cont       23\n",
              "Date_exp            37\n",
              "Pageviews_exp       37\n",
              "Clicks_exp          37\n",
              "Enrollments_exp     23\n",
              "Payments_exp        23\n",
              "dtype: int64"
            ]
          },
          "metadata": {},
          "execution_count": 50
        }
      ]
    },
    {
      "cell_type": "code",
      "source": [
        "#now we only need the complete data records\n",
        "full=full.loc[full[\"Enrollments_cont\"].notnull()]\n",
        "full.count()"
      ],
      "metadata": {
        "colab": {
          "base_uri": "https://localhost:8080/"
        },
        "id": "pM9SPZbrikhw",
        "outputId": "c7336a26-3106-41a1-a9ea-79231007fa27"
      },
      "execution_count": 51,
      "outputs": [
        {
          "output_type": "execute_result",
          "data": {
            "text/plain": [
              "Date_cont           23\n",
              "Pageviews_cont      23\n",
              "Clicks_cont         23\n",
              "Enrollments_cont    23\n",
              "Payments_cont       23\n",
              "Date_exp            23\n",
              "Pageviews_exp       23\n",
              "Clicks_exp          23\n",
              "Enrollments_exp     23\n",
              "Payments_exp        23\n",
              "dtype: int64"
            ]
          },
          "metadata": {},
          "execution_count": 51
        }
      ]
    },
    {
      "cell_type": "code",
      "source": [
        "# Now, derive a new column for each metric, so we have it's daily values\n",
        "# We need a 1 if the experiment value is greater than the control value=\n",
        "x=full['Enrollments_cont']/full['Clicks_cont']\n",
        "y=full['Enrollments_exp']/full['Clicks_exp']\n",
        "full['GC'] = np.where(x<y,1,0)\n",
        "# The same now for net conversion\n",
        "z=full['Payments_cont']/full['Clicks_cont']\n",
        "w=full['Payments_exp']/full['Clicks_exp']\n",
        "full['NC'] = np.where(z<w,1,0)\n",
        "full.head()"
      ],
      "metadata": {
        "colab": {
          "base_uri": "https://localhost:8080/",
          "height": 206
        },
        "id": "0EBPdISSinCW",
        "outputId": "e287f70c-e41b-483c-9fe7-66dba16860b6"
      },
      "execution_count": 52,
      "outputs": [
        {
          "output_type": "execute_result",
          "data": {
            "text/plain": [
              "     Date_cont  Pageviews_cont  Clicks_cont  Enrollments_cont  Payments_cont  \\\n",
              "0  Sat, Oct 11            7723          687             134.0           70.0   \n",
              "1  Sun, Oct 12            9102          779             147.0           70.0   \n",
              "2  Mon, Oct 13           10511          909             167.0           95.0   \n",
              "3  Tue, Oct 14            9871          836             156.0          105.0   \n",
              "4  Wed, Oct 15           10014          837             163.0           64.0   \n",
              "\n",
              "      Date_exp  Pageviews_exp  Clicks_exp  Enrollments_exp  Payments_exp  GC  \\\n",
              "0  Sat, Oct 11           7716         686            105.0          34.0   0   \n",
              "1  Sun, Oct 12           9288         785            116.0          91.0   0   \n",
              "2  Mon, Oct 13          10480         884            145.0          79.0   0   \n",
              "3  Tue, Oct 14           9867         827            138.0          92.0   0   \n",
              "4  Wed, Oct 15           9793         832            140.0          94.0   0   \n",
              "\n",
              "   NC  \n",
              "0   0  \n",
              "1   1  \n",
              "2   0  \n",
              "3   0  \n",
              "4   1  "
            ],
            "text/html": [
              "\n",
              "  <div id=\"df-9e2dac7d-8085-4265-bc14-10eb08904b00\">\n",
              "    <div class=\"colab-df-container\">\n",
              "      <div>\n",
              "<style scoped>\n",
              "    .dataframe tbody tr th:only-of-type {\n",
              "        vertical-align: middle;\n",
              "    }\n",
              "\n",
              "    .dataframe tbody tr th {\n",
              "        vertical-align: top;\n",
              "    }\n",
              "\n",
              "    .dataframe thead th {\n",
              "        text-align: right;\n",
              "    }\n",
              "</style>\n",
              "<table border=\"1\" class=\"dataframe\">\n",
              "  <thead>\n",
              "    <tr style=\"text-align: right;\">\n",
              "      <th></th>\n",
              "      <th>Date_cont</th>\n",
              "      <th>Pageviews_cont</th>\n",
              "      <th>Clicks_cont</th>\n",
              "      <th>Enrollments_cont</th>\n",
              "      <th>Payments_cont</th>\n",
              "      <th>Date_exp</th>\n",
              "      <th>Pageviews_exp</th>\n",
              "      <th>Clicks_exp</th>\n",
              "      <th>Enrollments_exp</th>\n",
              "      <th>Payments_exp</th>\n",
              "      <th>GC</th>\n",
              "      <th>NC</th>\n",
              "    </tr>\n",
              "  </thead>\n",
              "  <tbody>\n",
              "    <tr>\n",
              "      <th>0</th>\n",
              "      <td>Sat, Oct 11</td>\n",
              "      <td>7723</td>\n",
              "      <td>687</td>\n",
              "      <td>134.0</td>\n",
              "      <td>70.0</td>\n",
              "      <td>Sat, Oct 11</td>\n",
              "      <td>7716</td>\n",
              "      <td>686</td>\n",
              "      <td>105.0</td>\n",
              "      <td>34.0</td>\n",
              "      <td>0</td>\n",
              "      <td>0</td>\n",
              "    </tr>\n",
              "    <tr>\n",
              "      <th>1</th>\n",
              "      <td>Sun, Oct 12</td>\n",
              "      <td>9102</td>\n",
              "      <td>779</td>\n",
              "      <td>147.0</td>\n",
              "      <td>70.0</td>\n",
              "      <td>Sun, Oct 12</td>\n",
              "      <td>9288</td>\n",
              "      <td>785</td>\n",
              "      <td>116.0</td>\n",
              "      <td>91.0</td>\n",
              "      <td>0</td>\n",
              "      <td>1</td>\n",
              "    </tr>\n",
              "    <tr>\n",
              "      <th>2</th>\n",
              "      <td>Mon, Oct 13</td>\n",
              "      <td>10511</td>\n",
              "      <td>909</td>\n",
              "      <td>167.0</td>\n",
              "      <td>95.0</td>\n",
              "      <td>Mon, Oct 13</td>\n",
              "      <td>10480</td>\n",
              "      <td>884</td>\n",
              "      <td>145.0</td>\n",
              "      <td>79.0</td>\n",
              "      <td>0</td>\n",
              "      <td>0</td>\n",
              "    </tr>\n",
              "    <tr>\n",
              "      <th>3</th>\n",
              "      <td>Tue, Oct 14</td>\n",
              "      <td>9871</td>\n",
              "      <td>836</td>\n",
              "      <td>156.0</td>\n",
              "      <td>105.0</td>\n",
              "      <td>Tue, Oct 14</td>\n",
              "      <td>9867</td>\n",
              "      <td>827</td>\n",
              "      <td>138.0</td>\n",
              "      <td>92.0</td>\n",
              "      <td>0</td>\n",
              "      <td>0</td>\n",
              "    </tr>\n",
              "    <tr>\n",
              "      <th>4</th>\n",
              "      <td>Wed, Oct 15</td>\n",
              "      <td>10014</td>\n",
              "      <td>837</td>\n",
              "      <td>163.0</td>\n",
              "      <td>64.0</td>\n",
              "      <td>Wed, Oct 15</td>\n",
              "      <td>9793</td>\n",
              "      <td>832</td>\n",
              "      <td>140.0</td>\n",
              "      <td>94.0</td>\n",
              "      <td>0</td>\n",
              "      <td>1</td>\n",
              "    </tr>\n",
              "  </tbody>\n",
              "</table>\n",
              "</div>\n",
              "      <button class=\"colab-df-convert\" onclick=\"convertToInteractive('df-9e2dac7d-8085-4265-bc14-10eb08904b00')\"\n",
              "              title=\"Convert this dataframe to an interactive table.\"\n",
              "              style=\"display:none;\">\n",
              "        \n",
              "  <svg xmlns=\"http://www.w3.org/2000/svg\" height=\"24px\"viewBox=\"0 0 24 24\"\n",
              "       width=\"24px\">\n",
              "    <path d=\"M0 0h24v24H0V0z\" fill=\"none\"/>\n",
              "    <path d=\"M18.56 5.44l.94 2.06.94-2.06 2.06-.94-2.06-.94-.94-2.06-.94 2.06-2.06.94zm-11 1L8.5 8.5l.94-2.06 2.06-.94-2.06-.94L8.5 2.5l-.94 2.06-2.06.94zm10 10l.94 2.06.94-2.06 2.06-.94-2.06-.94-.94-2.06-.94 2.06-2.06.94z\"/><path d=\"M17.41 7.96l-1.37-1.37c-.4-.4-.92-.59-1.43-.59-.52 0-1.04.2-1.43.59L10.3 9.45l-7.72 7.72c-.78.78-.78 2.05 0 2.83L4 21.41c.39.39.9.59 1.41.59.51 0 1.02-.2 1.41-.59l7.78-7.78 2.81-2.81c.8-.78.8-2.07 0-2.86zM5.41 20L4 18.59l7.72-7.72 1.47 1.35L5.41 20z\"/>\n",
              "  </svg>\n",
              "      </button>\n",
              "      \n",
              "  <style>\n",
              "    .colab-df-container {\n",
              "      display:flex;\n",
              "      flex-wrap:wrap;\n",
              "      gap: 12px;\n",
              "    }\n",
              "\n",
              "    .colab-df-convert {\n",
              "      background-color: #E8F0FE;\n",
              "      border: none;\n",
              "      border-radius: 50%;\n",
              "      cursor: pointer;\n",
              "      display: none;\n",
              "      fill: #1967D2;\n",
              "      height: 32px;\n",
              "      padding: 0 0 0 0;\n",
              "      width: 32px;\n",
              "    }\n",
              "\n",
              "    .colab-df-convert:hover {\n",
              "      background-color: #E2EBFA;\n",
              "      box-shadow: 0px 1px 2px rgba(60, 64, 67, 0.3), 0px 1px 3px 1px rgba(60, 64, 67, 0.15);\n",
              "      fill: #174EA6;\n",
              "    }\n",
              "\n",
              "    [theme=dark] .colab-df-convert {\n",
              "      background-color: #3B4455;\n",
              "      fill: #D2E3FC;\n",
              "    }\n",
              "\n",
              "    [theme=dark] .colab-df-convert:hover {\n",
              "      background-color: #434B5C;\n",
              "      box-shadow: 0px 1px 3px 1px rgba(0, 0, 0, 0.15);\n",
              "      filter: drop-shadow(0px 1px 2px rgba(0, 0, 0, 0.3));\n",
              "      fill: #FFFFFF;\n",
              "    }\n",
              "  </style>\n",
              "\n",
              "      <script>\n",
              "        const buttonEl =\n",
              "          document.querySelector('#df-9e2dac7d-8085-4265-bc14-10eb08904b00 button.colab-df-convert');\n",
              "        buttonEl.style.display =\n",
              "          google.colab.kernel.accessAllowed ? 'block' : 'none';\n",
              "\n",
              "        async function convertToInteractive(key) {\n",
              "          const element = document.querySelector('#df-9e2dac7d-8085-4265-bc14-10eb08904b00');\n",
              "          const dataTable =\n",
              "            await google.colab.kernel.invokeFunction('convertToInteractive',\n",
              "                                                     [key], {});\n",
              "          if (!dataTable) return;\n",
              "\n",
              "          const docLinkHtml = 'Like what you see? Visit the ' +\n",
              "            '<a target=\"_blank\" href=https://colab.research.google.com/notebooks/data_table.ipynb>data table notebook</a>'\n",
              "            + ' to learn more about interactive tables.';\n",
              "          element.innerHTML = '';\n",
              "          dataTable['output_type'] = 'display_data';\n",
              "          await google.colab.output.renderOutput(dataTable, element);\n",
              "          const docLink = document.createElement('div');\n",
              "          docLink.innerHTML = docLinkHtml;\n",
              "          element.appendChild(docLink);\n",
              "        }\n",
              "      </script>\n",
              "    </div>\n",
              "  </div>\n",
              "  "
            ]
          },
          "metadata": {},
          "execution_count": 52
        }
      ]
    },
    {
      "cell_type": "code",
      "source": [
        "GC_x=full.GC[full[\"GC\"]==1].count()\n",
        "NC_x=full.NC[full[\"NC\"]==1].count()\n",
        "n=full.NC.count()\n",
        "print(\"No. of cases for GC:\",GC_x,'\\n',\n",
        "      \"No. of cases for NC:\",NC_x,'\\n',\n",
        "      \"No. of total cases\",n)"
      ],
      "metadata": {
        "colab": {
          "base_uri": "https://localhost:8080/"
        },
        "id": "TH3z_hYxir8A",
        "outputId": "9957bd1a-4cdc-4872-e32c-0671c62a2ec2"
      },
      "execution_count": 53,
      "outputs": [
        {
          "output_type": "stream",
          "name": "stdout",
          "text": [
            "No. of cases for GC: 4 \n",
            " No. of cases for NC: 10 \n",
            " No. of total cases 23\n"
          ]
        }
      ]
    },
    {
      "cell_type": "markdown",
      "source": [
        "### 5.4.1 Building a Sign Test <a class=\"anchor\" id=\"sign\"></a>"
      ],
      "metadata": {
        "id": "bBqr1Gy-jGu6"
      }
    },
    {
      "cell_type": "code",
      "source": [
        "#first a function for calculating probability of x=number of successes\n",
        "def get_prob(x,n):\n",
        "    p=round(mt.factorial(n)/(mt.factorial(x)*mt.factorial(n-x))*0.5**x*0.5**(n-x),4)\n",
        "    return p\n",
        "#next a function to compute the pvalue from probabilities of maximum x\n",
        "def get_2side_pvalue(x,n):\n",
        "    p=0\n",
        "    for i in range(0,x+1):\n",
        "        p=p+get_prob(i,n)\n",
        "    return 2*p"
      ],
      "metadata": {
        "id": "aV2_D6R-jIKt"
      },
      "execution_count": 54,
      "outputs": []
    },
    {
      "cell_type": "code",
      "source": [
        "print (\"GC Change is significant if\",get_2side_pvalue(GC_x,n),\"is smaller than 0.05\")\n",
        "print (\"NC Change is significant if\",get_2side_pvalue(NC_x,n),\"is smaller than 0.05\")"
      ],
      "metadata": {
        "colab": {
          "base_uri": "https://localhost:8080/"
        },
        "id": "k1xLmwoVjLs5",
        "outputId": "047b2c31-69ee-469a-8f41-b55a5a465a8f"
      },
      "execution_count": 55,
      "outputs": [
        {
          "output_type": "stream",
          "name": "stdout",
          "text": [
            "GC Change is significant if 0.0026000000000000003 is smaller than 0.05\n",
            "NC Change is significant if 0.6774 is smaller than 0.05\n"
          ]
        }
      ]
    },
    {
      "cell_type": "markdown",
      "source": [
        "We get the same conclusions as we got from our effect size calculation: the change in Gross conversion was indeed significant, while the change in Net conversion was not.\n",
        "\n",
        "\n",
        "## 6 Conclusions <a class=\"anchor\" id=\"conclusions\"></a>\n",
        "At this stage, since it has been determined that the intended objective (boosting the percentage of paying users by inquiring about their availability to invest time in the course) was not accomplished, it is suggested to abandon the change. Although it may have affected Gross conversion, it did not impact Net conversion."
      ],
      "metadata": {
        "id": "hZvS4BzAkn6N"
      }
    },
    {
      "cell_type": "code",
      "source": [],
      "metadata": {
        "id": "N5hmB-_dlqjr"
      },
      "execution_count": null,
      "outputs": []
    },
    {
      "cell_type": "code",
      "source": [],
      "metadata": {
        "id": "PvmOtZO-koUW"
      },
      "execution_count": null,
      "outputs": []
    },
    {
      "cell_type": "code",
      "source": [],
      "metadata": {
        "id": "OW5PSplljPDQ"
      },
      "execution_count": null,
      "outputs": []
    },
    {
      "cell_type": "code",
      "source": [],
      "metadata": {
        "id": "xThgTyqYiuzw"
      },
      "execution_count": null,
      "outputs": []
    },
    {
      "cell_type": "code",
      "source": [],
      "metadata": {
        "id": "vyTwDhTFiXMg"
      },
      "execution_count": null,
      "outputs": []
    },
    {
      "cell_type": "code",
      "source": [],
      "metadata": {
        "id": "SdFr8fv7iAIH"
      },
      "execution_count": null,
      "outputs": []
    },
    {
      "cell_type": "code",
      "source": [],
      "metadata": {
        "id": "PQCcjxnPh5LW"
      },
      "execution_count": null,
      "outputs": []
    },
    {
      "cell_type": "code",
      "source": [],
      "metadata": {
        "id": "aj4YKbwBhweL"
      },
      "execution_count": null,
      "outputs": []
    },
    {
      "cell_type": "code",
      "source": [],
      "metadata": {
        "id": "SmmJ6XeChsFA"
      },
      "execution_count": null,
      "outputs": []
    },
    {
      "cell_type": "code",
      "source": [],
      "metadata": {
        "id": "OjT7dKCfhca_"
      },
      "execution_count": null,
      "outputs": []
    },
    {
      "cell_type": "code",
      "source": [],
      "metadata": {
        "id": "H7y5ft8jhHlW"
      },
      "execution_count": null,
      "outputs": []
    },
    {
      "cell_type": "code",
      "source": [],
      "metadata": {
        "id": "lqF_-J6TgkiZ"
      },
      "execution_count": null,
      "outputs": []
    },
    {
      "cell_type": "code",
      "source": [],
      "metadata": {
        "id": "B3MOA4f3dAOP"
      },
      "execution_count": null,
      "outputs": []
    },
    {
      "cell_type": "code",
      "source": [],
      "metadata": {
        "id": "qIMZ_Zt9czrX"
      },
      "execution_count": null,
      "outputs": []
    },
    {
      "cell_type": "code",
      "source": [],
      "metadata": {
        "id": "gKhxNYR4crH3"
      },
      "execution_count": null,
      "outputs": []
    },
    {
      "cell_type": "code",
      "source": [],
      "metadata": {
        "id": "l1n9ytnWcQzb"
      },
      "execution_count": null,
      "outputs": []
    },
    {
      "cell_type": "code",
      "source": [],
      "metadata": {
        "id": "yE4a_El6b7er"
      },
      "execution_count": null,
      "outputs": []
    },
    {
      "cell_type": "code",
      "source": [],
      "metadata": {
        "id": "4eIz5PR_bp0F"
      },
      "execution_count": null,
      "outputs": []
    },
    {
      "cell_type": "code",
      "source": [],
      "metadata": {
        "id": "Z9iZ-cRFbZ3G"
      },
      "execution_count": null,
      "outputs": []
    },
    {
      "cell_type": "code",
      "source": [],
      "metadata": {
        "id": "npZJZqqpYuNM"
      },
      "execution_count": null,
      "outputs": []
    },
    {
      "cell_type": "code",
      "source": [],
      "metadata": {
        "id": "JyIsI4KGYpU-"
      },
      "execution_count": null,
      "outputs": []
    },
    {
      "cell_type": "code",
      "source": [],
      "metadata": {
        "id": "o_NbxoflYDT_"
      },
      "execution_count": null,
      "outputs": []
    },
    {
      "cell_type": "code",
      "source": [],
      "metadata": {
        "id": "17L1mxU0Vd1b"
      },
      "execution_count": null,
      "outputs": []
    },
    {
      "cell_type": "code",
      "source": [],
      "metadata": {
        "id": "24PZv38xUZU4"
      },
      "execution_count": null,
      "outputs": []
    },
    {
      "cell_type": "code",
      "source": [],
      "metadata": {
        "id": "KrfN4SWWUTfR"
      },
      "execution_count": null,
      "outputs": []
    },
    {
      "cell_type": "code",
      "source": [],
      "metadata": {
        "id": "-YNco12KUMpf"
      },
      "execution_count": null,
      "outputs": []
    }
  ]
}